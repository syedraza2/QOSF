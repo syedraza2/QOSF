{
 "cells": [
  {
   "cell_type": "code",
   "execution_count": 1,
   "metadata": {},
   "outputs": [],
   "source": [
    "# Import necessary packages \n",
    "\n",
    "import qiskit\n",
    "from qiskit import QuantumCircuit, QuantumRegister, ClassicalRegister, quantum_info\n",
    "from qiskit import Aer, execute\n",
    "import math\n",
    "import random\n",
    "import numpy as np\n",
    "from scipy.optimize import minimize\n",
    "from qiskit.circuit import ParameterVector\n",
    "from qiskit.quantum_info import random_statevector, Statevector\n",
    "from math import sqrt, pi\n",
    "from scipy.optimize import  minimize\n",
    "import matplotlib.pyplot as plt"
   ]
  },
  {
   "cell_type": "markdown",
   "metadata": {},
   "source": [
    "Task 1:\n",
    "https://docs.google.com/document/d/1Ow3v8Y4rYBdgxXNxKV9ZUAM4bwL6211U6DWCcByZ4A4/edit\n",
    "\n",
    "In this notebook, we will build a parametric quantum circuit that can mimic a given random quantum state.\n",
    "\n",
    "For this particular task, our goal is to mimic a 4 qubit randomly generated state vector (donoted by phi). The parametric circuit is parametrized by L layers, each layer has an odd gate and an even gate parametrized by theta. We have 8*L variational parameters theta to optimize (4 each for odd and even gates).\n",
    "\n",
    "The notebook is organized as follows:\n",
    "1. Setup of the Quantum Circuit\n",
    "    1.1 Even Gate Function\n",
    "    1.2 Odd Gate Function\n",
    "    1.3 L layers of Odd and Even Gates   \n",
    "2. Random Generation of Variational Parameters\n",
    "3. Generate Target state phi\n",
    "4. Implement Cost Function\n",
    "5. Optimization and final output\n",
    "6. Bonus"
   ]
  },
  {
   "cell_type": "markdown",
   "metadata": {},
   "source": [
    "## 1. Setup of the Quantum Circuit\n"
   ]
  },
  {
   "cell_type": "markdown",
   "metadata": {},
   "source": [
    "## 1.1 Even Gate Function"
   ]
  },
  {
   "cell_type": "code",
   "execution_count": 2,
   "metadata": {},
   "outputs": [
    {
     "name": "stdout",
     "output_type": "stream",
     "text": [
      "EVEN GATE:\n"
     ]
    },
    {
     "data": {
      "text/html": [
       "<pre style=\"word-wrap: normal;white-space: pre;background: #fff0;line-height: 1.1;font-family: &quot;Courier New&quot;,Courier,monospace\">      ┌──────────┐                  \n",
       "q0_0: ┤ RZ(θ[0]) ├─■──■──■──────────\n",
       "      ├──────────┤ │  │  │          \n",
       "q0_1: ┤ RZ(θ[1]) ├─■──┼──┼──■──■────\n",
       "      ├──────────┤    │  │  │  │    \n",
       "q0_2: ┤ RZ(θ[2]) ├────■──┼──■──┼──■─\n",
       "      ├──────────┤       │     │  │ \n",
       "q0_3: ┤ RZ(θ[3]) ├───────■─────■──■─\n",
       "      └──────────┘                  </pre>"
      ],
      "text/plain": [
       "      ┌──────────┐                  \n",
       "q0_0: ┤ RZ(θ[0]) ├─■──■──■──────────\n",
       "      ├──────────┤ │  │  │          \n",
       "q0_1: ┤ RZ(θ[1]) ├─■──┼──┼──■──■────\n",
       "      ├──────────┤    │  │  │  │    \n",
       "q0_2: ┤ RZ(θ[2]) ├────■──┼──■──┼──■─\n",
       "      ├──────────┤       │     │  │ \n",
       "q0_3: ┤ RZ(θ[3]) ├───────■─────■──■─\n",
       "      └──────────┘                  "
      ]
     },
     "execution_count": 2,
     "metadata": {},
     "output_type": "execute_result"
    }
   ],
   "source": [
    "#Apply Even Gate function (RZ gates on each qubit parameterized by theta, double qubit gates of CZ)\n",
    "def apply_even_gate(quantum_circuit, variational_parameters):\n",
    "    \n",
    "    # Apply a RZ gate with a phase of variational_parameters \n",
    "    for i in range(0,4):\n",
    "        quantum_circuit.rz(variational_parameters[i], qubits[i])\n",
    "        \n",
    "    # Apply CZ gates to a series of control qubits and target qubits    \n",
    "    quantum_circuit.cz(qubits[0], qubits[1])\n",
    "    quantum_circuit.cz(qubits[0], qubits[2])\n",
    "    quantum_circuit.cz(qubits[0], qubits[3])\n",
    "    quantum_circuit.cz(qubits[1], qubits[2])\n",
    "    quantum_circuit.cz(qubits[1], qubits[3])\n",
    "    quantum_circuit.cz(qubits[2], qubits[3])\n",
    "    \n",
    "    return quantum_circuit\n",
    "\n",
    "# 4 qubits\n",
    "qubits = [0, 1, 2, 3]\n",
    "\n",
    "# initialize quantum register & quantum circuit of 4 qubits\n",
    "q = QuantumRegister(4)\n",
    "qc = QuantumCircuit(q)\n",
    "\n",
    "#variational parameters theta of length 4, will be initialized later with randoms between 0 and 2*pi\n",
    "var_parameters = ParameterVector('θ',length=4)\n",
    "\n",
    "#Apply Even Gate\n",
    "apply_even_gate(qc, var_parameters)\n",
    "\n",
    "# Visualize the circuit\n",
    "print('EVEN GATE:')\n",
    "qc.draw()"
   ]
  },
  {
   "cell_type": "markdown",
   "metadata": {},
   "source": [
    "## 1.2 Odd Gate Function"
   ]
  },
  {
   "cell_type": "code",
   "execution_count": 3,
   "metadata": {},
   "outputs": [
    {
     "name": "stdout",
     "output_type": "stream",
     "text": [
      "ODD GATE:\n"
     ]
    },
    {
     "data": {
      "text/html": [
       "<pre style=\"word-wrap: normal;white-space: pre;background: #fff0;line-height: 1.1;font-family: &quot;Courier New&quot;,Courier,monospace\">      ┌──────────┐\n",
       "q1_0: ┤ RX(θ[0]) ├\n",
       "      ├──────────┤\n",
       "q1_1: ┤ RX(θ[1]) ├\n",
       "      ├──────────┤\n",
       "q1_2: ┤ RX(θ[2]) ├\n",
       "      ├──────────┤\n",
       "q1_3: ┤ RX(θ[3]) ├\n",
       "      └──────────┘</pre>"
      ],
      "text/plain": [
       "      ┌──────────┐\n",
       "q1_0: ┤ RX(θ[0]) ├\n",
       "      ├──────────┤\n",
       "q1_1: ┤ RX(θ[1]) ├\n",
       "      ├──────────┤\n",
       "q1_2: ┤ RX(θ[2]) ├\n",
       "      ├──────────┤\n",
       "q1_3: ┤ RX(θ[3]) ├\n",
       "      └──────────┘"
      ]
     },
     "execution_count": 3,
     "metadata": {},
     "output_type": "execute_result"
    }
   ],
   "source": [
    "#Apply Odd Gate function (RX gates on each qubit parameterized by theta)\n",
    "def apply_odd_gate(quantum_circuit, variational_parameters):\n",
    "    \n",
    "    # Apply a RX gate with a phase of variational_parameters \n",
    "    for i in range(0,4):\n",
    "        quantum_circuit.rx(variational_parameters[i], qubits[i])\n",
    "    \n",
    "    return quantum_circuit\n",
    "        \n",
    "\n",
    "qubits = [0, 1, 2, 3]\n",
    "\n",
    "# initialize quantum register & quantum circuit of 4 qubits\n",
    "q = QuantumRegister(4)\n",
    "qc = QuantumCircuit(q)\n",
    "\n",
    "#variational parameters theta of length 4, will be initialized later with randoms between 0 and 2*pi\n",
    "var_parameters = ParameterVector('θ',length=4)\n",
    "\n",
    "#Apply Odd Gate\n",
    "apply_odd_gate(qc, var_parameters)\n",
    "\n",
    "# Visualize the circuit\n",
    "print('ODD GATE:')\n",
    "qc.draw()"
   ]
  },
  {
   "cell_type": "code",
   "execution_count": 4,
   "metadata": {},
   "outputs": [
    {
     "name": "stdout",
     "output_type": "stream",
     "text": [
      "U1 + U2:\n",
      "Odd and Even Layer (L=1)\n"
     ]
    },
    {
     "data": {
      "text/html": [
       "<pre style=\"word-wrap: normal;white-space: pre;background: #fff0;line-height: 1.1;font-family: &quot;Courier New&quot;,Courier,monospace\">      ┌──────────┐┌──────────┐                  \n",
       "q2_0: ┤ RX(θ[0]) ├┤ RZ(θ[4]) ├─■──■──■──────────\n",
       "      ├──────────┤├──────────┤ │  │  │          \n",
       "q2_1: ┤ RX(θ[1]) ├┤ RZ(θ[5]) ├─■──┼──┼──■──■────\n",
       "      ├──────────┤├──────────┤    │  │  │  │    \n",
       "q2_2: ┤ RX(θ[2]) ├┤ RZ(θ[6]) ├────■──┼──■──┼──■─\n",
       "      ├──────────┤├──────────┤       │     │  │ \n",
       "q2_3: ┤ RX(θ[3]) ├┤ RZ(θ[7]) ├───────■─────■──■─\n",
       "      └──────────┘└──────────┘                  </pre>"
      ],
      "text/plain": [
       "      ┌──────────┐┌──────────┐                  \n",
       "q2_0: ┤ RX(θ[0]) ├┤ RZ(θ[4]) ├─■──■──■──────────\n",
       "      ├──────────┤├──────────┤ │  │  │          \n",
       "q2_1: ┤ RX(θ[1]) ├┤ RZ(θ[5]) ├─■──┼──┼──■──■────\n",
       "      ├──────────┤├──────────┤    │  │  │  │    \n",
       "q2_2: ┤ RX(θ[2]) ├┤ RZ(θ[6]) ├────■──┼──■──┼──■─\n",
       "      ├──────────┤├──────────┤       │     │  │ \n",
       "q2_3: ┤ RX(θ[3]) ├┤ RZ(θ[7]) ├───────■─────■──■─\n",
       "      └──────────┘└──────────┘                  "
      ]
     },
     "execution_count": 4,
     "metadata": {},
     "output_type": "execute_result"
    }
   ],
   "source": [
    "#A single layer of odd and even gates (U1 + U2)\n",
    "qubits = [0, 1, 2, 3]\n",
    "\n",
    "# initialize quantum register & quantum circuit of 4 qubits\n",
    "q = QuantumRegister(4)\n",
    "qc = QuantumCircuit(q)\n",
    "\n",
    "#variational parameters theta of length 8, will be initialized later with randoms between 0 and 2*pi\n",
    "# The first 4 are for odd U1 and the next 4 are for even U2\n",
    "var_parameters = ParameterVector('θ',length=8)\n",
    "\n",
    "# Apply odd and even gates to the circuit\n",
    "qc = apply_odd_gate(qc, var_parameters[0:4])\n",
    "qc = apply_even_gate(qc, var_parameters[4:8])\n",
    "\n",
    "# Visualize the circuit\n",
    "print('U1 + U2:')\n",
    "print('Odd and Even Layer (L=1)')\n",
    "qc.draw()\n"
   ]
  },
  {
   "cell_type": "markdown",
   "metadata": {},
   "source": [
    "## 1.3 L layers of Odd and Even Gates"
   ]
  },
  {
   "cell_type": "code",
   "execution_count": 5,
   "metadata": {},
   "outputs": [
    {
     "name": "stdout",
     "output_type": "stream",
     "text": [
      "L layers of U1+U2 applied to 4 qubits\n",
      "L = 3 layers\n",
      "number of variational parameters= 24\n"
     ]
    },
    {
     "data": {
      "text/html": [
       "<pre style=\"word-wrap: normal;white-space: pre;background: #fff0;line-height: 1.1;font-family: &quot;Courier New&quot;,Courier,monospace\">      ┌──────────┐┌──────────┐         ┌──────────┐┌───────────┐            »\n",
       "q3_0: ┤ RX(θ[0]) ├┤ RZ(θ[4]) ├─■──■──■─┤ RX(θ[8]) ├┤ RZ(θ[12]) ├────────────»\n",
       "      ├──────────┤├──────────┤ │  │  │ └──────────┘└───────────┘┌──────────┐»\n",
       "q3_1: ┤ RX(θ[1]) ├┤ RZ(θ[5]) ├─■──┼──┼──────■────────────■──────┤ RX(θ[9]) ├»\n",
       "      ├──────────┤├──────────┤    │  │      │            │      └──────────┘»\n",
       "q3_2: ┤ RX(θ[2]) ├┤ RZ(θ[6]) ├────■──┼──────■────────────┼───────────■──────»\n",
       "      ├──────────┤├──────────┤       │                   │           │      »\n",
       "q3_3: ┤ RX(θ[3]) ├┤ RZ(θ[7]) ├───────■───────────────────■───────────■──────»\n",
       "      └──────────┘└──────────┘                                              »\n",
       "«                                      ┌───────────┐┌───────────┐             »\n",
       "«q3_0: ───────────────────■───────■──■─┤ RX(θ[16]) ├┤ RZ(θ[20]) ├─────────────»\n",
       "«      ┌───────────┐      │       │  │ └───────────┘└───────────┘┌───────────┐»\n",
       "«q3_1: ┤ RZ(θ[13]) ├──────■───────┼──┼───────■────────────■──────┤ RX(θ[17]) ├»\n",
       "«      ├───────────┤┌───────────┐ │  │       │            │      └───────────┘»\n",
       "«q3_2: ┤ RX(θ[10]) ├┤ RZ(θ[14]) ├─■──┼───────■────────────┼────────────■──────»\n",
       "«      ├───────────┤├───────────┤    │                    │            │      »\n",
       "«q3_3: ┤ RX(θ[11]) ├┤ RZ(θ[15]) ├────■────────────────────■────────────■──────»\n",
       "«      └───────────┘└───────────┘                                             »\n",
       "«                                               \n",
       "«q3_0: ───────────────────■───────■──■──────────\n",
       "«      ┌───────────┐      │       │  │          \n",
       "«q3_1: ┤ RZ(θ[21]) ├──────■───────┼──┼──■──■────\n",
       "«      ├───────────┤┌───────────┐ │  │  │  │    \n",
       "«q3_2: ┤ RX(θ[18]) ├┤ RZ(θ[22]) ├─■──┼──■──┼──■─\n",
       "«      ├───────────┤├───────────┤    │     │  │ \n",
       "«q3_3: ┤ RX(θ[19]) ├┤ RZ(θ[23]) ├────■─────■──■─\n",
       "«      └───────────┘└───────────┘               </pre>"
      ],
      "text/plain": [
       "      ┌──────────┐┌──────────┐         ┌──────────┐┌───────────┐            »\n",
       "q3_0: ┤ RX(θ[0]) ├┤ RZ(θ[4]) ├─■──■──■─┤ RX(θ[8]) ├┤ RZ(θ[12]) ├────────────»\n",
       "      ├──────────┤├──────────┤ │  │  │ └──────────┘└───────────┘┌──────────┐»\n",
       "q3_1: ┤ RX(θ[1]) ├┤ RZ(θ[5]) ├─■──┼──┼──────■────────────■──────┤ RX(θ[9]) ├»\n",
       "      ├──────────┤├──────────┤    │  │      │            │      └──────────┘»\n",
       "q3_2: ┤ RX(θ[2]) ├┤ RZ(θ[6]) ├────■──┼──────■────────────┼───────────■──────»\n",
       "      ├──────────┤├──────────┤       │                   │           │      »\n",
       "q3_3: ┤ RX(θ[3]) ├┤ RZ(θ[7]) ├───────■───────────────────■───────────■──────»\n",
       "      └──────────┘└──────────┘                                              »\n",
       "«                                      ┌───────────┐┌───────────┐             »\n",
       "«q3_0: ───────────────────■───────■──■─┤ RX(θ[16]) ├┤ RZ(θ[20]) ├─────────────»\n",
       "«      ┌───────────┐      │       │  │ └───────────┘└───────────┘┌───────────┐»\n",
       "«q3_1: ┤ RZ(θ[13]) ├──────■───────┼──┼───────■────────────■──────┤ RX(θ[17]) ├»\n",
       "«      ├───────────┤┌───────────┐ │  │       │            │      └───────────┘»\n",
       "«q3_2: ┤ RX(θ[10]) ├┤ RZ(θ[14]) ├─■──┼───────■────────────┼────────────■──────»\n",
       "«      ├───────────┤├───────────┤    │                    │            │      »\n",
       "«q3_3: ┤ RX(θ[11]) ├┤ RZ(θ[15]) ├────■────────────────────■────────────■──────»\n",
       "«      └───────────┘└───────────┘                                             »\n",
       "«                                               \n",
       "«q3_0: ───────────────────■───────■──■──────────\n",
       "«      ┌───────────┐      │       │  │          \n",
       "«q3_1: ┤ RZ(θ[21]) ├──────■───────┼──┼──■──■────\n",
       "«      ├───────────┤┌───────────┐ │  │  │  │    \n",
       "«q3_2: ┤ RX(θ[18]) ├┤ RZ(θ[22]) ├─■──┼──■──┼──■─\n",
       "«      ├───────────┤├───────────┤    │     │  │ \n",
       "«q3_3: ┤ RX(θ[19]) ├┤ RZ(θ[23]) ├────■─────■──■─\n",
       "«      └───────────┘└───────────┘               "
      ]
     },
     "execution_count": 5,
     "metadata": {},
     "output_type": "execute_result"
    }
   ],
   "source": [
    "# Build L layers \n",
    "\n",
    "# Specify number of layers\n",
    "L=3\n",
    "\n",
    "#A single layer of odd and even gates (U1 + U2)\n",
    "qubits = [0, 1, 2, 3]\n",
    "\n",
    "# initialize quantum register & quantum circuit of 4 qubits\n",
    "q = QuantumRegister(4)\n",
    "qc = QuantumCircuit(q)\n",
    "\n",
    "# Each Layer has 8 variational parameters (4 for odd and 4 for even). In total 8*L variational parameters\n",
    "var_parameters = ParameterVector('θ',length=8*L)\n",
    "\n",
    "# Functions applies L layers\n",
    "def apply_L_layers(quantum_circuit, variational_parameters, layer):\n",
    "    \n",
    "    # Apply odd and even gates to the circuit L times\n",
    "    for i in range(0,layer):\n",
    "        quantum_circuit = apply_odd_gate(quantum_circuit, variational_parameters[8*i:8*i+4])\n",
    "        quantum_circuit = apply_even_gate(quantum_circuit, variational_parameters[8*i+4:8*i+8])\n",
    "    \n",
    "    return quantum_circuit\n",
    "\n",
    "# Function to apply L layers \n",
    "qc = apply_L_layers(qc, var_parameters, L)\n",
    "\n",
    "# Visuzlize L layers \n",
    "print('L layers of U1+U2 applied to 4 qubits')\n",
    "print('L =', L, 'layers')\n",
    "print('number of variational parameters=', 8*L)\n",
    "qc.draw()"
   ]
  },
  {
   "cell_type": "markdown",
   "metadata": {},
   "source": [
    "## 2. Random generation of Variational parameters"
   ]
  },
  {
   "cell_type": "markdown",
   "metadata": {},
   "source": [
    "## Example of randomly generating parameters and executing the quantum circuit with L layers"
   ]
  },
  {
   "cell_type": "code",
   "execution_count": 6,
   "metadata": {},
   "outputs": [
    {
     "name": "stdout",
     "output_type": "stream",
     "text": [
      "Randomly generated variational parameters *thetas* between 0 and 2*pi, 8 parameters for each layer:\n",
      "[2.68246506 6.2635095  3.66323562 4.93029441 3.69868003 0.45991207\n",
      " 0.48968932 3.39427745]\n",
      "-------------------------------------------------------------\n",
      "Our quantum circuit with L = 1 layers and 8*L random parameters\n"
     ]
    },
    {
     "data": {
      "text/html": [
       "<pre style=\"word-wrap: normal;white-space: pre;background: #fff0;line-height: 1.1;font-family: &quot;Courier New&quot;,Courier,monospace\">      ┌────────────┐ ┌────────────┐                  \n",
       "q4_0: ┤ RX(2.6825) ├─┤ RZ(3.6987) ├─■──■──■──────────\n",
       "      ├────────────┤┌┴────────────┤ │  │  │          \n",
       "q4_1: ┤ RX(6.2635) ├┤ RZ(0.45991) ├─■──┼──┼──■──■────\n",
       "      ├────────────┤├─────────────┤    │  │  │  │    \n",
       "q4_2: ┤ RX(3.6632) ├┤ RZ(0.48969) ├────■──┼──■──┼──■─\n",
       "      ├────────────┤└┬────────────┤       │     │  │ \n",
       "q4_3: ┤ RX(4.9303) ├─┤ RZ(3.3943) ├───────■─────■──■─\n",
       "      └────────────┘ └────────────┘                  </pre>"
      ],
      "text/plain": [
       "      ┌────────────┐ ┌────────────┐                  \n",
       "q4_0: ┤ RX(2.6825) ├─┤ RZ(3.6987) ├─■──■──■──────────\n",
       "      ├────────────┤┌┴────────────┤ │  │  │          \n",
       "q4_1: ┤ RX(6.2635) ├┤ RZ(0.45991) ├─■──┼──┼──■──■────\n",
       "      ├────────────┤├─────────────┤    │  │  │  │    \n",
       "q4_2: ┤ RX(3.6632) ├┤ RZ(0.48969) ├────■──┼──■──┼──■─\n",
       "      ├────────────┤└┬────────────┤       │     │  │ \n",
       "q4_3: ┤ RX(4.9303) ├─┤ RZ(3.3943) ├───────■─────■──■─\n",
       "      └────────────┘ └────────────┘                  "
      ]
     },
     "execution_count": 6,
     "metadata": {},
     "output_type": "execute_result"
    }
   ],
   "source": [
    "# Specify number of layers\n",
    "L=1\n",
    "\n",
    "#A single layer of odd and even gates (U1 + U2)\n",
    "qubits = [0, 1, 2, 3]\n",
    "\n",
    "# initialize quantum register & quantum circuit of 4 qubits\n",
    "q = QuantumRegister(4)\n",
    "qc = QuantumCircuit(q)\n",
    "\n",
    "#initialize random variational parameters in the range of [0,2pi] for 8*L\n",
    "print('Randomly generated variational parameters *thetas* between 0 and 2*pi, 8 parameters for each layer:')\n",
    "params=2*pi*np.random.rand(8*L) \n",
    "print(params)\n",
    "\n",
    "# Generate a L layer quantum circuit with the varaitional parameters from above\n",
    "qc = apply_L_layers(qc, params, L)\n",
    "\n",
    "# Visualize the circuit\n",
    "print('-------------------------------------------------------------')\n",
    "print('Our quantum circuit with L =', L, 'layers and 8*L random parameters')\n",
    "qc.draw()"
   ]
  },
  {
   "cell_type": "code",
   "execution_count": 7,
   "metadata": {},
   "outputs": [
    {
     "name": "stdout",
     "output_type": "stream",
     "text": [
      "Result of the simulation:\n",
      "Qubit State = [-4.57566367e-02+0.00000000e+00j  1.03525911e-01-1.66200039e-01j\n",
      "  1.99813985e-04-4.03388144e-04j -1.01312517e-03-1.63845559e-03j\n",
      "  8.06354624e-02-1.51289128e-01j -3.67081157e-01-6.35185709e-01j\n",
      " -9.81631312e-04-1.37154034e-03j  7.20276570e-03-4.62385354e-04j\n",
      " -9.18350938e-03+3.55669122e-02j  1.08410306e-01+1.13828222e-01j\n",
      "  2.73452727e-04+2.36277971e-04j -1.47691910e-03+4.58664865e-04j\n",
      "  1.01414154e-01+9.30426674e-02j -5.67408128e-01+1.57850530e-01j\n",
      " -1.26312333e-03+4.87755279e-04j -1.08620411e-03+5.69155589e-03j]\n"
     ]
    }
   ],
   "source": [
    "# Tell Qiskit how to simulate our circuit\n",
    "backend = Aer.get_backend('statevector_simulator') \n",
    "\n",
    "print('Result of the simulation:')\n",
    "state = execute(qc, backend).result().get_statevector()\n",
    "print(\"Qubit State = \" + str(state))"
   ]
  },
  {
   "cell_type": "markdown",
   "metadata": {},
   "source": [
    "## 3. Generate the target state phi"
   ]
  },
  {
   "cell_type": "code",
   "execution_count": 8,
   "metadata": {},
   "outputs": [
    {
     "data": {
      "text/plain": [
       "array([ 0.25796293+0.19254705j,  0.14468228+0.04642421j,\n",
       "        0.30159397+0.2477055j ,  0.14085502+0.12345334j,\n",
       "        0.02623233+0.27614044j, -0.25836945+0.10192199j,\n",
       "       -0.27442651+0.11974095j, -0.23386972-0.05620745j,\n",
       "       -0.01690226+0.10776523j,  0.13303208+0.05829491j,\n",
       "        0.11195926-0.23219385j,  0.08643397+0.30930513j,\n",
       "       -0.06429655+0.02989279j, -0.06924717+0.127371j  ,\n",
       "        0.12537656-0.24006461j,  0.19623186-0.20933345j])"
      ]
     },
     "execution_count": 8,
     "metadata": {},
     "output_type": "execute_result"
    }
   ],
   "source": [
    "# phi, randomly generated state vector on 4 qubits\n",
    "phi_state = quantum_info.random_statevector(2**4).data\n",
    "phi_state"
   ]
  },
  {
   "cell_type": "markdown",
   "metadata": {},
   "source": [
    "## 4. Implement Cost Function"
   ]
  },
  {
   "cell_type": "code",
   "execution_count": 9,
   "metadata": {},
   "outputs": [],
   "source": [
    "#Implements the cost function on the quantum circuit \n",
    "#(difference between the target state phi and the state vector from our simulation)\n",
    "\n",
    "NUM_SHOTS = 1000\n",
    "\n",
    "def calculate_cost_function(parameters):\n",
    "    \n",
    "    # Number of Layers\n",
    "    L = int(len(parameters)/8)\n",
    "    \n",
    "    # Generate a L layer quantum circuit with the varaitional parameters \n",
    "    q = QuantumRegister(4)\n",
    "    qc = QuantumCircuit(q)\n",
    "    qc = apply_L_layers(qc, parameters, L)\n",
    "    \n",
    "    # Tell Qiskit how to simulate our circuit\n",
    "    backend = Aer.get_backend('statevector_simulator') \n",
    "    # Execute the simulation on the circuit and get and output state vector\n",
    "    output_state = execute(qc, backend, shots = NUM_SHOTS).result().get_statevector()\n",
    "    \n",
    "    # Calculate teh cost, distance between output state and target phi state\n",
    "    cost = sum([(output_state[i] - phi_state[i])*np.conjugate(output_state[i] - phi_state[i]) for i in range(2**4)])\n",
    "    \n",
    "    return cost\n",
    "    \n",
    "    "
   ]
  },
  {
   "cell_type": "markdown",
   "metadata": {},
   "source": [
    "## Sample run of Cost function"
   ]
  },
  {
   "cell_type": "code",
   "execution_count": 10,
   "metadata": {},
   "outputs": [
    {
     "name": "stdout",
     "output_type": "stream",
     "text": [
      "Randomly generated variational parameters *thetas* between 0 and 2*pi, 8 parameters for each layer:\n",
      "[2.5955891  0.35737305 3.18646465 0.75761354 0.52089142 2.51282321\n",
      " 4.51031558 3.01199837]\n"
     ]
    },
    {
     "data": {
      "text/plain": [
       "(2.40148532572792+0j)"
      ]
     },
     "execution_count": 10,
     "metadata": {},
     "output_type": "execute_result"
    }
   ],
   "source": [
    "# Specify number of layers\n",
    "L=1\n",
    "\n",
    "qubits = [0, 1, 2, 3]\n",
    "\n",
    "#initialize random variational parameters in the range of [0,2pi] for 8*L\n",
    "print('Randomly generated variational parameters *thetas* between 0 and 2*pi, 8 parameters for each layer:')\n",
    "params=2*pi*np.random.rand(8*L) \n",
    "print(params)\n",
    "\n",
    "calculate_cost_function(params)"
   ]
  },
  {
   "cell_type": "markdown",
   "metadata": {},
   "source": [
    "## 5. Optimization and final Output"
   ]
  },
  {
   "cell_type": "code",
   "execution_count": 11,
   "metadata": {},
   "outputs": [],
   "source": [
    "# A function to minimize the cost function for different cost function and max number of L\n",
    "# BFGS algorithm used for optimization\n",
    "def optimizer(cost_function, max_Layers):\n",
    "    \n",
    "    # make lists of layers and costs for plotting later\n",
    "    layer_list = []\n",
    "    cost_list=[]\n",
    "    \n",
    "    for L in range(1,max_Layers):\n",
    "        \n",
    "        #initialize random variational parameters in the range of [0,2pi] for 8*L\n",
    "        params=2*pi*np.random.rand(8*L) \n",
    "\n",
    "        # optimization\n",
    "        ret=minimize(fun=calculate_cost_function,x0=params,method='BFGS',tol=0.0001,options={'maxiter':5000})\n",
    "        cost=ret.fun\n",
    "        layer_list.append(L)\n",
    "        cost_list.append(cost)\n",
    "        \n",
    "        print(\"Layer\",L , \" has minimum distance of\", cost)\n",
    "\n",
    "\n",
    "    plt.plot(layer_list, cost_list, label=\"minimumum distance by layer\")\n",
    "    plt.title('Minimizing distance with additional layers L')\n",
    "    plt.xlabel('Number of layers')\n",
    "    plt.ylabel('Minimum distance (epsilon)')\n",
    "    plt.legend()\n",
    "    plt.show()\n",
    "    return None"
   ]
  },
  {
   "cell_type": "code",
   "execution_count": 12,
   "metadata": {
    "scrolled": true
   },
   "outputs": [
    {
     "name": "stderr",
     "output_type": "stream",
     "text": [
      "/Users/syed.raza/opt/anaconda3/lib/python3.7/site-packages/scipy/optimize/_numdiff.py:519: ComplexWarning: Casting complex values to real discards the imaginary part\n",
      "  J_transposed[i] = df / dx\n",
      "/Users/syed.raza/opt/anaconda3/lib/python3.7/site-packages/scipy/optimize/linesearch.py:169: ComplexWarning: Casting complex values to real discards the imaginary part\n",
      "  amin, amax, isave, dsave)\n"
     ]
    },
    {
     "name": "stdout",
     "output_type": "stream",
     "text": [
      "Layer 1  has minimum distance of 0.7044854764800439\n",
      "Layer 2  has minimum distance of 0.24724482581572482\n",
      "Layer 3  has minimum distance of 0.03864227278131736\n",
      "Layer 4  has minimum distance of 4.0665705919727654e-08\n",
      "Layer 5  has minimum distance of 7.881046839180616e-08\n",
      "Layer 6  has minimum distance of 1.1900227924611097e-07\n",
      "Layer 7  has minimum distance of 9.223964687700134e-08\n",
      "Layer 8  has minimum distance of 4.1525146494962224e-08\n",
      "Layer 9  has minimum distance of 2.451859841852045e-07\n"
     ]
    },
    {
     "data": {
      "image/png": "[encoded data removed]",
      "text/plain": [
       "<Figure size 432x288 with 1 Axes>"
      ]
     },
     "metadata": {
      "needs_background": "light"
     },
     "output_type": "display_data"
    }
   ],
   "source": [
    "# Run the optimizer specifying the cost function and the maximum number of layers L to iterate over\n",
    "optimizer(calculate_cost_function,10)"
   ]
  },
  {
   "cell_type": "markdown",
   "metadata": {},
   "source": [
    "The minumum distance is optimized after 4 layers "
   ]
  },
  {
   "cell_type": "markdown",
   "metadata": {},
   "source": [
    "## 6. Bonus\n",
    "Task: Try using other gates for the parametrized gates and see what happens.\n",
    "\n",
    "We implemented two even gates in each layer instead of an odd and even gate "
   ]
  },
  {
   "cell_type": "code",
   "execution_count": 15,
   "metadata": {},
   "outputs": [],
   "source": [
    "# Just use even gates for layer L, new function called apply_L_layers_bonus\n",
    "\n",
    "# Functions applies L layers (bonus)\n",
    "def apply_L_layers_bonus(quantum_circuit, variational_parameters, layer):\n",
    "    \n",
    "    # Apply odd and even gates to the circuit L times\n",
    "    for i in range(0,layer):\n",
    "        quantum_circuit = apply_even_gate(quantum_circuit, variational_parameters[8*i:8*i+4])\n",
    "        quantum_circuit = apply_even_gate(quantum_circuit, variational_parameters[8*i+4:8*i+8])\n",
    "    \n",
    "    return quantum_circuit\n",
    "\n",
    "# cost function that calls the modified apply_L_layers_bonus function\n",
    "NUM_SHOTS = 1000\n",
    "\n",
    "def calculate_cost_function_bonus(parameters):\n",
    "    \n",
    "    # Number of Layers\n",
    "    L = int(len(parameters)/8)\n",
    "    \n",
    "    # Generate a L layer quantum circuit with the varaitional parameters \n",
    "    q = QuantumRegister(4)\n",
    "    qc = QuantumCircuit(q)\n",
    "    qc = apply_L_layers_bonus(qc, parameters, L)\n",
    "    \n",
    "    # Tell Qiskit how to simulate our circuit\n",
    "    backend = Aer.get_backend('statevector_simulator') \n",
    "    # Execute the simulation on the circuit and get and output state vector\n",
    "    output_state = execute(qc, backend, shots = NUM_SHOTS).result().get_statevector()\n",
    "    \n",
    "    # Calculate teh cost, distance between output state and target phi state\n",
    "    cost = sum([(output_state[i] - phi_state[i])*np.conjugate(output_state[i] - phi_state[i]) for i in range(2**4)])\n",
    "    \n",
    "    return cost\n",
    "\n",
    "# Optimizer function that calls the modified apply_L_layers_bonus function\n",
    "def optimizer_bonus(cost_function, max_Layers):\n",
    "    \n",
    "    # make lists of layers and costs for plotting later\n",
    "    layer_list = []\n",
    "    cost_list=[]\n",
    "    \n",
    "    for L in range(1,max_Layers):\n",
    "        \n",
    "        #initialize random variational parameters in the range of [0,2pi] for 8*L\n",
    "        params=2*pi*np.random.rand(8*L) \n",
    "\n",
    "        # optimization\n",
    "        ret=minimize(fun=calculate_cost_function_bonus,x0=params,method='BFGS',tol=0.0001,options={'maxiter':5000})\n",
    "        cost=ret.fun\n",
    "        layer_list.append(L)\n",
    "        cost_list.append(cost)\n",
    "        \n",
    "        print(\"Layer\",L , \" has minimum distance of\", cost)\n",
    "\n",
    "\n",
    "    plt.plot(layer_list, cost_list, label=\"Bonus: Each layer is two even gates\")\n",
    "    plt.title('Bonus: Each layer is two even gates')\n",
    "    plt.xlabel('Number of layers')\n",
    "    plt.ylabel('Minimum distance (epsilon)')\n",
    "    plt.legend()\n",
    "    plt.show()\n",
    "    return None"
   ]
  },
  {
   "cell_type": "code",
   "execution_count": 16,
   "metadata": {},
   "outputs": [
    {
     "name": "stdout",
     "output_type": "stream",
     "text": [
      "Layer 1  has minimum distance of 0.7044854784830017\n",
      "Layer 2  has minimum distance of 0.2584444042637994\n",
      "Layer 3  has minimum distance of 0.041873737353028476\n",
      "Layer 4  has minimum distance of 3.239804806821096e-05\n",
      "Layer 5  has minimum distance of 4.883430242131178e-07\n",
      "Layer 6  has minimum distance of 1.9519489761583964e-07\n",
      "Layer 7  has minimum distance of 1.9368945064409346e-07\n",
      "Layer 8  has minimum distance of 1.0708352541094177e-07\n",
      "Layer 9  has minimum distance of 4.407454463977575e-08\n"
     ]
    },
    {
     "data": {
      "image/png": "[encoded data removed]",
      "text/plain": [
       "<Figure size 432x288 with 1 Axes>"
      ]
     },
     "metadata": {
      "needs_background": "light"
     },
     "output_type": "display_data"
    }
   ],
   "source": [
    "# Run the modified optimizer where each layer has two even gates\n",
    "optimizer(calculate_cost_function_bonus,10)"
   ]
  },
  {
   "cell_type": "markdown",
   "metadata": {},
   "source": [
    "The minumum distance is still optimized after 4 layers for the modified parameterization of gates "
   ]
  },
  {
   "cell_type": "code",
   "execution_count": null,
   "metadata": {},
   "outputs": [],
   "source": []
  }
 ],
 "metadata": {
  "kernelspec": {
   "display_name": "Python 3",
   "language": "python",
   "name": "python3"
  },
  "language_info": {
   "codemirror_mode": {
    "name": "ipython",
    "version": 3
   },
   "file_extension": ".py",
   "mimetype": "text/x-python",
   "name": "python",
   "nbconvert_exporter": "python",
   "pygments_lexer": "ipython3",
   "version": "3.7.4"
  }
 },
 "nbformat": 4,
 "nbformat_minor": 2
}
